{
 "cells": [
  {
   "cell_type": "code",
   "execution_count": 46,
   "metadata": {},
   "outputs": [],
   "source": [
    "%matplotlib inline\n",
    "import pandas as pd\n",
    "import numpy as np\n",
    "from time import time\n",
    "import xgboost\n",
    "from matplotlib import pyplot as plt\n",
    "\n",
    "from sklearn.preprocessing import RobustScaler, Imputer, StandardScaler\n",
    "from sklearn.pipeline import Pipeline\n",
    "from sklearn.linear_model import LogisticRegression\n",
    "from sklearn.ensemble import RandomForestClassifier\n",
    "from sklearn.model_selection import train_test_split, GridSearchCV, RandomizedSearchCV\n",
    "from sklearn.metrics import classification_report, accuracy_score\n",
    "from sklearn import metrics\n",
    "from datetime import datetime, time"
   ]
  },
  {
   "cell_type": "code",
   "execution_count": 47,
   "metadata": {
    "collapsed": true
   },
   "outputs": [
    {
     "data": {
      "text/plain": [
       "1459"
      ]
     },
     "execution_count": 47,
     "metadata": {},
     "output_type": "execute_result"
    }
   ],
   "source": [
    "train = pd.read_csv('train.csv')\n",
    "test = pd.read_csv('test.csv')\n",
    "ids = test['Id']\n",
    "len(test)"
   ]
  },
  {
   "cell_type": "code",
   "execution_count": 48,
   "metadata": {
    "collapsed": true
   },
   "outputs": [
    {
     "data": {
      "text/plain": [
       "1459"
      ]
     },
     "execution_count": 48,
     "metadata": {},
     "output_type": "execute_result"
    }
   ],
   "source": [
    "train = train.dropna(axis=1, thresh=1168)\n",
    "test = test.dropna(axis=1, thresh=1168)\n",
    "len(test)"
   ]
  },
  {
   "cell_type": "code",
   "execution_count": 49,
   "metadata": {},
   "outputs": [
    {
     "name": "stdout",
     "output_type": "stream",
     "text": [
      "<class 'pandas.core.frame.DataFrame'>\n",
      "RangeIndex: 1460 entries, 0 to 1459\n",
      "Data columns (total 76 columns):\n",
      "Id               1460 non-null int64\n",
      "MSSubClass       1460 non-null int64\n",
      "MSZoning         1460 non-null object\n",
      "LotFrontage      1201 non-null float64\n",
      "LotArea          1460 non-null int64\n",
      "Street           1460 non-null object\n",
      "LotShape         1460 non-null object\n",
      "LandContour      1460 non-null object\n",
      "Utilities        1460 non-null object\n",
      "LotConfig        1460 non-null object\n",
      "LandSlope        1460 non-null object\n",
      "Neighborhood     1460 non-null object\n",
      "Condition1       1460 non-null object\n",
      "Condition2       1460 non-null object\n",
      "BldgType         1460 non-null object\n",
      "HouseStyle       1460 non-null object\n",
      "OverallQual      1460 non-null int64\n",
      "OverallCond      1460 non-null int64\n",
      "YearBuilt        1460 non-null int64\n",
      "YearRemodAdd     1460 non-null int64\n",
      "RoofStyle        1460 non-null object\n",
      "RoofMatl         1460 non-null object\n",
      "Exterior1st      1460 non-null object\n",
      "Exterior2nd      1460 non-null object\n",
      "MasVnrType       1452 non-null object\n",
      "MasVnrArea       1452 non-null float64\n",
      "ExterQual        1460 non-null object\n",
      "ExterCond        1460 non-null object\n",
      "Foundation       1460 non-null object\n",
      "BsmtQual         1423 non-null object\n",
      "BsmtCond         1423 non-null object\n",
      "BsmtExposure     1422 non-null object\n",
      "BsmtFinType1     1423 non-null object\n",
      "BsmtFinSF1       1460 non-null int64\n",
      "BsmtFinType2     1422 non-null object\n",
      "BsmtFinSF2       1460 non-null int64\n",
      "BsmtUnfSF        1460 non-null int64\n",
      "TotalBsmtSF      1460 non-null int64\n",
      "Heating          1460 non-null object\n",
      "HeatingQC        1460 non-null object\n",
      "CentralAir       1460 non-null object\n",
      "Electrical       1459 non-null object\n",
      "1stFlrSF         1460 non-null int64\n",
      "2ndFlrSF         1460 non-null int64\n",
      "LowQualFinSF     1460 non-null int64\n",
      "GrLivArea        1460 non-null int64\n",
      "BsmtFullBath     1460 non-null int64\n",
      "BsmtHalfBath     1460 non-null int64\n",
      "FullBath         1460 non-null int64\n",
      "HalfBath         1460 non-null int64\n",
      "BedroomAbvGr     1460 non-null int64\n",
      "KitchenAbvGr     1460 non-null int64\n",
      "KitchenQual      1460 non-null object\n",
      "TotRmsAbvGrd     1460 non-null int64\n",
      "Functional       1460 non-null object\n",
      "Fireplaces       1460 non-null int64\n",
      "GarageType       1379 non-null object\n",
      "GarageYrBlt      1379 non-null float64\n",
      "GarageFinish     1379 non-null object\n",
      "GarageCars       1460 non-null int64\n",
      "GarageArea       1460 non-null int64\n",
      "GarageQual       1379 non-null object\n",
      "GarageCond       1379 non-null object\n",
      "PavedDrive       1460 non-null object\n",
      "WoodDeckSF       1460 non-null int64\n",
      "OpenPorchSF      1460 non-null int64\n",
      "EnclosedPorch    1460 non-null int64\n",
      "3SsnPorch        1460 non-null int64\n",
      "ScreenPorch      1460 non-null int64\n",
      "PoolArea         1460 non-null int64\n",
      "MiscVal          1460 non-null int64\n",
      "MoSold           1460 non-null int64\n",
      "YrSold           1460 non-null int64\n",
      "SaleType         1460 non-null object\n",
      "SaleCondition    1460 non-null object\n",
      "SalePrice        1460 non-null int64\n",
      "dtypes: float64(3), int64(35), object(38)\n",
      "memory usage: 866.9+ KB\n"
     ]
    }
   ],
   "source": [
    "train.info()"
   ]
  },
  {
   "cell_type": "code",
   "execution_count": 50,
   "metadata": {
    "scrolled": true
   },
   "outputs": [
    {
     "data": {
      "text/plain": [
       "<matplotlib.axes._subplots.AxesSubplot at 0x7ff2cd178290>"
      ]
     },
     "execution_count": 50,
     "metadata": {},
     "output_type": "execute_result"
    },
    {
     "data": {
      "image/png": "[encoded data removed]",
      "text/plain": [
       "<matplotlib.figure.Figure at 0x7ff2cd31f110>"
      ]
     },
     "metadata": {},
     "output_type": "display_data"
    }
   ],
   "source": [
    "fig, ax = plt.subplots()\n",
    "train['SalePrice'].value_counts(bins=10, ascending=True).plot(ax=ax, kind='bar')"
   ]
  },
  {
   "cell_type": "code",
   "execution_count": 51,
   "metadata": {
    "scrolled": true
   },
   "outputs": [
    {
     "data": {
      "text/plain": [
       "<matplotlib.axes._subplots.AxesSubplot at 0x7ff2cd184c10>"
      ]
     },
     "execution_count": 51,
     "metadata": {},
     "output_type": "execute_result"
    },
    {
     "data": {
      "image/png": "[encoded data removed]",
      "text/plain": [
       "<matplotlib.figure.Figure at 0x7ff2cd3bc910>"
      ]
     },
     "metadata": {},
     "output_type": "display_data"
    }
   ],
   "source": [
    "fig, ax = plt.subplots()\n",
    "train['SalePrice'].value_counts(bins=10, ascending=True).sort_index().plot(kind='barh')"
   ]
  },
  {
   "cell_type": "code",
   "execution_count": 52,
   "metadata": {
    "collapsed": true
   },
   "outputs": [
    {
     "data": {
      "text/plain": [
       "(610980.0, 682990.0]       2\n",
       "(682990.0, 755000.0]       2\n",
       "(538970.0, 610980.0]       3\n",
       "(466960.0, 538970.0]       4\n",
       "(394950.0, 466960.0]      19\n",
       "(322940.0, 394950.0]      51\n",
       "(250930.0, 322940.0]     135\n",
       "(34179.899, 106910.0]    148\n",
       "(178920.0, 250930.0]     373\n",
       "(106910.0, 178920.0]     723\n",
       "Name: SalePrice, dtype: int64"
      ]
     },
     "execution_count": 52,
     "metadata": {},
     "output_type": "execute_result"
    }
   ],
   "source": [
    "y = train['SalePrice'].value_counts(bins=10, ascending=True)\n",
    "y"
   ]
  },
  {
   "cell_type": "code",
   "execution_count": 53,
   "metadata": {},
   "outputs": [
    {
     "data": {
      "text/plain": [
       "1459"
      ]
     },
     "execution_count": 53,
     "metadata": {},
     "output_type": "execute_result"
    }
   ],
   "source": [
    "df_obj = train.select_dtypes(include=[np.object])\n",
    "df_obj2 = test.select_dtypes(include=[np.object])\n",
    "len(test)"
   ]
  },
  {
   "cell_type": "code",
   "execution_count": 54,
   "metadata": {},
   "outputs": [
    {
     "data": {
      "text/plain": [
       "['MSZoning',\n",
       " 'Street',\n",
       " 'LotShape',\n",
       " 'LandContour',\n",
       " 'Utilities',\n",
       " 'LotConfig',\n",
       " 'LandSlope',\n",
       " 'Neighborhood',\n",
       " 'Condition1',\n",
       " 'Condition2',\n",
       " 'BldgType',\n",
       " 'HouseStyle',\n",
       " 'RoofStyle',\n",
       " 'RoofMatl',\n",
       " 'Exterior1st',\n",
       " 'Exterior2nd',\n",
       " 'MasVnrType',\n",
       " 'ExterQual',\n",
       " 'ExterCond',\n",
       " 'Foundation',\n",
       " 'BsmtQual',\n",
       " 'BsmtCond',\n",
       " 'BsmtExposure',\n",
       " 'BsmtFinType1',\n",
       " 'BsmtFinType2',\n",
       " 'Heating',\n",
       " 'HeatingQC',\n",
       " 'CentralAir',\n",
       " 'Electrical',\n",
       " 'KitchenQual',\n",
       " 'Functional',\n",
       " 'GarageType',\n",
       " 'GarageFinish',\n",
       " 'GarageQual',\n",
       " 'GarageCond',\n",
       " 'PavedDrive',\n",
       " 'SaleType',\n",
       " 'SaleCondition']"
      ]
     },
     "execution_count": 54,
     "metadata": {},
     "output_type": "execute_result"
    }
   ],
   "source": [
    "list(df_obj)"
   ]
  },
  {
   "cell_type": "code",
   "execution_count": 55,
   "metadata": {},
   "outputs": [
    {
     "data": {
      "text/plain": [
       "1459"
      ]
     },
     "execution_count": 55,
     "metadata": {},
     "output_type": "execute_result"
    }
   ],
   "source": [
    "df_obj_dums = pd.get_dummies(df_obj, drop_first=True)\n",
    "df_obj_dums2 = pd.get_dummies(df_obj2, drop_first=True)\n",
    "len(test)"
   ]
  },
  {
   "cell_type": "code",
   "execution_count": 56,
   "metadata": {},
   "outputs": [
    {
     "data": {
      "text/plain": [
       "(1460, 76)"
      ]
     },
     "execution_count": 56,
     "metadata": {},
     "output_type": "execute_result"
    }
   ],
   "source": [
    "train.shape"
   ]
  },
  {
   "cell_type": "code",
   "execution_count": 57,
   "metadata": {},
   "outputs": [
    {
     "data": {
      "text/plain": [
       "1459"
      ]
     },
     "execution_count": 57,
     "metadata": {},
     "output_type": "execute_result"
    }
   ],
   "source": [
    "drops = ['MSZoning',\n",
    " 'Street',\n",
    " 'LotShape',\n",
    " 'LandContour',\n",
    " 'Utilities',\n",
    " 'LotConfig',\n",
    " 'LandSlope',\n",
    " 'Neighborhood',\n",
    " 'Condition1',\n",
    " 'Condition2',\n",
    " 'BldgType',\n",
    " 'HouseStyle',\n",
    " 'RoofStyle',\n",
    " 'RoofMatl',\n",
    " 'Exterior1st',\n",
    " 'Exterior2nd',\n",
    " 'MasVnrType',\n",
    " 'ExterQual',\n",
    " 'ExterCond',\n",
    " 'Foundation',\n",
    " 'BsmtQual',\n",
    " 'BsmtCond',\n",
    " 'BsmtExposure',\n",
    " 'BsmtFinType1',\n",
    " 'BsmtFinType2',\n",
    " 'Heating',\n",
    " 'HeatingQC',\n",
    " 'CentralAir',\n",
    " 'Electrical',\n",
    " 'KitchenQual',\n",
    " 'Functional',\n",
    " 'GarageType',\n",
    " 'GarageFinish',\n",
    " 'GarageQual',\n",
    " 'GarageCond',\n",
    " 'PavedDrive',\n",
    " 'SaleType',\n",
    " 'SaleCondition']\n",
    "len(test)"
   ]
  },
  {
   "cell_type": "code",
   "execution_count": 58,
   "metadata": {},
   "outputs": [],
   "source": [
    "train = train.drop(drops, axis=1)\n",
    "test = test.drop(drops, axis=1)\n",
    "# df_obj = df_obj.drop(drops, axis=1)"
   ]
  },
  {
   "cell_type": "code",
   "execution_count": 59,
   "metadata": {},
   "outputs": [],
   "source": [
    "df_obj2 = df_obj2.drop(drops, axis=1)"
   ]
  },
  {
   "cell_type": "code",
   "execution_count": 60,
   "metadata": {},
   "outputs": [
    {
     "data": {
      "text/plain": [
       "Index([u'Id', u'MSSubClass', u'LotFrontage', u'LotArea', u'OverallQual',\n",
       "       u'OverallCond', u'YearBuilt', u'YearRemodAdd', u'MasVnrArea',\n",
       "       u'BsmtFinSF1', u'BsmtFinSF2', u'BsmtUnfSF', u'TotalBsmtSF', u'1stFlrSF',\n",
       "       u'2ndFlrSF', u'LowQualFinSF', u'GrLivArea', u'BsmtFullBath',\n",
       "       u'BsmtHalfBath', u'FullBath', u'HalfBath', u'BedroomAbvGr',\n",
       "       u'KitchenAbvGr', u'TotRmsAbvGrd', u'Fireplaces', u'GarageYrBlt',\n",
       "       u'GarageCars', u'GarageArea', u'WoodDeckSF', u'OpenPorchSF',\n",
       "       u'EnclosedPorch', u'3SsnPorch', u'ScreenPorch', u'PoolArea', u'MiscVal',\n",
       "       u'MoSold', u'YrSold', u'SalePrice'],\n",
       "      dtype='object')"
      ]
     },
     "execution_count": 60,
     "metadata": {},
     "output_type": "execute_result"
    }
   ],
   "source": [
    "train.columns"
   ]
  },
  {
   "cell_type": "code",
   "execution_count": 61,
   "metadata": {},
   "outputs": [
    {
     "data": {
      "text/plain": [
       "Index([u'Id', u'MSSubClass', u'LotFrontage', u'LotArea', u'OverallQual',\n",
       "       u'OverallCond', u'YearBuilt', u'YearRemodAdd', u'MasVnrArea',\n",
       "       u'BsmtFinSF1',\n",
       "       ...\n",
       "       u'SaleType_ConLI', u'SaleType_ConLw', u'SaleType_New', u'SaleType_Oth',\n",
       "       u'SaleType_WD', u'SaleCondition_AdjLand', u'SaleCondition_Alloca',\n",
       "       u'SaleCondition_Family', u'SaleCondition_Normal',\n",
       "       u'SaleCondition_Partial'],\n",
       "      dtype='object', length=234)"
      ]
     },
     "execution_count": 61,
     "metadata": {},
     "output_type": "execute_result"
    }
   ],
   "source": [
    "train = pd.concat([train, df_obj_dums], axis=1)\n",
    "test = pd.concat([test, df_obj_dums2], axis=1)\n",
    "train.columns"
   ]
  },
  {
   "cell_type": "code",
   "execution_count": 62,
   "metadata": {},
   "outputs": [],
   "source": [
    "train = train.drop(['Id'], axis=1)\n",
    "test = test.drop(['Id'], axis=1)"
   ]
  },
  {
   "cell_type": "code",
   "execution_count": 63,
   "metadata": {},
   "outputs": [],
   "source": [
    "import xgboost as xgb"
   ]
  },
  {
   "cell_type": "code",
   "execution_count": null,
   "metadata": {},
   "outputs": [],
   "source": []
  },
  {
   "cell_type": "code",
   "execution_count": 76,
   "metadata": {},
   "outputs": [],
   "source": [
    "X_train = train[[c for c in train if 'SalePrice' not in c and c in test]]\n",
    "y_train = train['SalePrice']\n",
    "y_test = test[[c for c in test if 'SalePrice' not in c]]\n",
    "\n",
    "\n",
    "dtrain = xgb.DMatrix(X_train, label=y_train)\n",
    "dtest = xgb.DMatrix(test)"
   ]
  },
  {
   "cell_type": "code",
   "execution_count": 77,
   "metadata": {},
   "outputs": [],
   "source": [
    "params =  {'learning_rate':0.5,\n",
    " 'max_depth':8,\n",
    " 'lambda':0.5,\n",
    " 'objective':'reg:linear',\n",
    " 'nthread':4,\n",
    " 'scale_pos_weight':1,\n",
    " 'eval_metric':'rmse',         \n",
    " 'seed':27,\n",
    " 'silent':1}\n",
    "\n",
    "\n",
    "evallist  = [(dtrain,'train')]"
   ]
  },
  {
   "cell_type": "code",
   "execution_count": 78,
   "metadata": {},
   "outputs": [
    {
     "name": "stdout",
     "output_type": "stream",
     "text": [
      "[0]\ttrain-rmse:103292\n",
      "Will train until train-rmse hasn't improved in 50 rounds.\n",
      "[1]\ttrain-rmse:55605.8\n",
      "[2]\ttrain-rmse:31526.4\n",
      "[3]\ttrain-rmse:19202.1\n",
      "[4]\ttrain-rmse:12961.6\n",
      "[5]\ttrain-rmse:9731.43\n",
      "[6]\ttrain-rmse:8183.68\n",
      "[7]\ttrain-rmse:6919.17\n",
      "[8]\ttrain-rmse:6145.48\n",
      "[9]\ttrain-rmse:5637.42\n",
      "[10]\ttrain-rmse:5328.12\n",
      "[11]\ttrain-rmse:4896.37\n",
      "[12]\ttrain-rmse:4543.75\n",
      "[13]\ttrain-rmse:4140.8\n",
      "[14]\ttrain-rmse:3864.07\n",
      "[15]\ttrain-rmse:3547.19\n",
      "[16]\ttrain-rmse:3219.95\n",
      "[17]\ttrain-rmse:3142.06\n",
      "[18]\ttrain-rmse:2863.4\n",
      "[19]\ttrain-rmse:2765.7\n",
      "[20]\ttrain-rmse:2451.66\n",
      "[21]\ttrain-rmse:2265.14\n",
      "[22]\ttrain-rmse:2222.44\n",
      "[23]\ttrain-rmse:2087.54\n",
      "[24]\ttrain-rmse:2006.11\n",
      "[25]\ttrain-rmse:1802.35\n",
      "[26]\ttrain-rmse:1676.5\n",
      "[27]\ttrain-rmse:1457.33\n",
      "[28]\ttrain-rmse:1313.84\n",
      "[29]\ttrain-rmse:1282.57\n",
      "[30]\ttrain-rmse:1230.01\n",
      "[31]\ttrain-rmse:1174.22\n",
      "[32]\ttrain-rmse:1093.78\n",
      "[33]\ttrain-rmse:1055.75\n",
      "[34]\ttrain-rmse:1011.59\n",
      "[35]\ttrain-rmse:954.193\n",
      "[36]\ttrain-rmse:908.706\n",
      "[37]\ttrain-rmse:890.444\n",
      "[38]\ttrain-rmse:844.052\n",
      "[39]\ttrain-rmse:754.141\n",
      "[40]\ttrain-rmse:651.056\n",
      "[41]\ttrain-rmse:617.206\n",
      "[42]\ttrain-rmse:580.78\n",
      "[43]\ttrain-rmse:538.399\n",
      "[44]\ttrain-rmse:493.474\n",
      "[45]\ttrain-rmse:455.111\n",
      "[46]\ttrain-rmse:427.628\n",
      "[47]\ttrain-rmse:400.318\n",
      "[48]\ttrain-rmse:365.355\n",
      "[49]\ttrain-rmse:351.176\n",
      "[50]\ttrain-rmse:323.138\n",
      "[51]\ttrain-rmse:298.99\n",
      "[52]\ttrain-rmse:268.668\n",
      "[53]\ttrain-rmse:250.497\n",
      "[54]\ttrain-rmse:235.216\n",
      "[55]\ttrain-rmse:215.016\n",
      "[56]\ttrain-rmse:194.822\n",
      "[57]\ttrain-rmse:179.38\n",
      "[58]\ttrain-rmse:167.715\n",
      "[59]\ttrain-rmse:153.921\n",
      "[60]\ttrain-rmse:144.45\n",
      "[61]\ttrain-rmse:140.099\n",
      "[62]\ttrain-rmse:130.844\n",
      "[63]\ttrain-rmse:125.716\n",
      "[64]\ttrain-rmse:119.009\n",
      "[65]\ttrain-rmse:113.889\n",
      "[66]\ttrain-rmse:102.348\n",
      "[67]\ttrain-rmse:97.955\n",
      "[68]\ttrain-rmse:85.7052\n",
      "[69]\ttrain-rmse:79.9533\n",
      "[70]\ttrain-rmse:75.7572\n",
      "[71]\ttrain-rmse:72.6907\n",
      "[72]\ttrain-rmse:64.8706\n",
      "[73]\ttrain-rmse:62.2359\n",
      "[74]\ttrain-rmse:59.4745\n",
      "[75]\ttrain-rmse:51.7994\n",
      "[76]\ttrain-rmse:48.0775\n",
      "[77]\ttrain-rmse:45.7682\n",
      "[78]\ttrain-rmse:41.8456\n",
      "[79]\ttrain-rmse:40.0771\n",
      "[80]\ttrain-rmse:36.8907\n",
      "[81]\ttrain-rmse:35.4893\n",
      "[82]\ttrain-rmse:33.6633\n",
      "[83]\ttrain-rmse:31.1381\n",
      "[84]\ttrain-rmse:29.3874\n",
      "[85]\ttrain-rmse:27.4582\n",
      "[86]\ttrain-rmse:26.2184\n",
      "[87]\ttrain-rmse:25.4783\n",
      "[88]\ttrain-rmse:22.2295\n",
      "[89]\ttrain-rmse:20.5998\n",
      "[90]\ttrain-rmse:19.1338\n",
      "[91]\ttrain-rmse:18.6805\n",
      "[92]\ttrain-rmse:17.5497\n",
      "[93]\ttrain-rmse:16.5915\n",
      "[94]\ttrain-rmse:16.1535\n",
      "[95]\ttrain-rmse:15.1635\n",
      "[96]\ttrain-rmse:13.8425\n",
      "[97]\ttrain-rmse:13.5682\n",
      "[98]\ttrain-rmse:12.2835\n",
      "[99]\ttrain-rmse:11.235\n",
      "[100]\ttrain-rmse:10.8379\n",
      "[101]\ttrain-rmse:10.6581\n",
      "[102]\ttrain-rmse:10.2972\n",
      "[103]\ttrain-rmse:9.91556\n",
      "[104]\ttrain-rmse:9.27838\n",
      "[105]\ttrain-rmse:8.36613\n",
      "[106]\ttrain-rmse:7.77018\n",
      "[107]\ttrain-rmse:6.60816\n",
      "[108]\ttrain-rmse:6.37664\n",
      "[109]\ttrain-rmse:6.08636\n",
      "[110]\ttrain-rmse:5.79866\n",
      "[111]\ttrain-rmse:5.50012\n",
      "[112]\ttrain-rmse:5.43097\n",
      "[113]\ttrain-rmse:5.06123\n",
      "[114]\ttrain-rmse:4.85546\n",
      "[115]\ttrain-rmse:4.56293\n",
      "[116]\ttrain-rmse:3.85371\n",
      "[117]\ttrain-rmse:3.78875\n",
      "[118]\ttrain-rmse:3.31005\n",
      "[119]\ttrain-rmse:3.13118\n",
      "[120]\ttrain-rmse:3.02408\n",
      "[121]\ttrain-rmse:2.95584\n",
      "[122]\ttrain-rmse:2.85162\n",
      "[123]\ttrain-rmse:2.50975\n",
      "[124]\ttrain-rmse:2.46452\n",
      "[125]\ttrain-rmse:2.29003\n",
      "[126]\ttrain-rmse:2.12986\n",
      "[127]\ttrain-rmse:2.03434\n",
      "[128]\ttrain-rmse:1.95453\n",
      "[129]\ttrain-rmse:1.857\n",
      "[130]\ttrain-rmse:1.75596\n",
      "[131]\ttrain-rmse:1.65651\n",
      "[132]\ttrain-rmse:1.61703\n",
      "[133]\ttrain-rmse:1.50357\n",
      "[134]\ttrain-rmse:1.4096\n",
      "[135]\ttrain-rmse:1.37166\n",
      "[136]\ttrain-rmse:1.22226\n",
      "[137]\ttrain-rmse:1.18319\n",
      "[138]\ttrain-rmse:1.10716\n",
      "[139]\ttrain-rmse:0.983848\n",
      "[140]\ttrain-rmse:0.90765\n",
      "[141]\ttrain-rmse:0.873463\n",
      "[142]\ttrain-rmse:0.857999\n",
      "[143]\ttrain-rmse:0.818246\n",
      "[144]\ttrain-rmse:0.795497\n",
      "[145]\ttrain-rmse:0.7134\n",
      "[146]\ttrain-rmse:0.686268\n",
      "[147]\ttrain-rmse:0.633025\n",
      "[148]\ttrain-rmse:0.614298\n",
      "[149]\ttrain-rmse:0.562927\n",
      "[150]\ttrain-rmse:0.553715\n",
      "[151]\ttrain-rmse:0.513493\n",
      "[152]\ttrain-rmse:0.499978\n",
      "[153]\ttrain-rmse:0.482823\n",
      "[154]\ttrain-rmse:0.449945\n",
      "[155]\ttrain-rmse:0.430152\n",
      "[156]\ttrain-rmse:0.374215\n",
      "[157]\ttrain-rmse:0.345483\n",
      "[158]\ttrain-rmse:0.339487\n",
      "[159]\ttrain-rmse:0.326665\n",
      "[160]\ttrain-rmse:0.295012\n",
      "[161]\ttrain-rmse:0.280939\n",
      "[162]\ttrain-rmse:0.254256\n",
      "[163]\ttrain-rmse:0.234068\n",
      "[164]\ttrain-rmse:0.221406\n",
      "[165]\ttrain-rmse:0.213018\n",
      "[166]\ttrain-rmse:0.204898\n",
      "[167]\ttrain-rmse:0.193812\n",
      "[168]\ttrain-rmse:0.168104\n",
      "[169]\ttrain-rmse:0.147611\n",
      "[170]\ttrain-rmse:0.137697\n",
      "[171]\ttrain-rmse:0.128436\n",
      "[172]\ttrain-rmse:0.121965\n",
      "[173]\ttrain-rmse:0.119653\n",
      "[174]\ttrain-rmse:0.112372\n",
      "[175]\ttrain-rmse:0.104495\n",
      "[176]\ttrain-rmse:0.101799\n",
      "[177]\ttrain-rmse:0.095895\n",
      "[178]\ttrain-rmse:0.090751\n",
      "[179]\ttrain-rmse:0.08493\n",
      "[180]\ttrain-rmse:0.082817\n",
      "[181]\ttrain-rmse:0.080755\n",
      "[182]\ttrain-rmse:0.077735\n",
      "[183]\ttrain-rmse:0.072404\n",
      "[184]\ttrain-rmse:0.070216\n",
      "[185]\ttrain-rmse:0.068096\n",
      "[186]\ttrain-rmse:0.062496\n",
      "[187]\ttrain-rmse:0.058721\n",
      "[188]\ttrain-rmse:0.057744\n",
      "[189]\ttrain-rmse:0.056176\n",
      "[190]\ttrain-rmse:0.055138\n",
      "[191]\ttrain-rmse:0.050392\n",
      "[192]\ttrain-rmse:0.044448\n",
      "[193]\ttrain-rmse:0.041876\n",
      "[194]\ttrain-rmse:0.038686\n",
      "[195]\ttrain-rmse:0.037007\n",
      "[196]\ttrain-rmse:0.035665\n",
      "[197]\ttrain-rmse:0.034824\n",
      "[198]\ttrain-rmse:0.033116\n",
      "[199]\ttrain-rmse:0.031286\n"
     ]
    }
   ],
   "source": [
    "num_round = 1000\n",
    "model = xgb.train(params, dtrain, evals=evallist, num_boost_round=200, early_stopping_rounds=50)"
   ]
  },
  {
   "cell_type": "code",
   "execution_count": null,
   "metadata": {},
   "outputs": [],
   "source": [
    "print ('running cross validation, with preprocessing function')\n",
    "# define the preprocessing function\n",
    "# used to return the preprocessed training, test data, and parameter\n",
    "# we can use this to do weight rescale, etc.\n",
    "# as a example, we try to set scale_pos_weight\n",
    "def fpreproc(dtrain, dtest, params):\n",
    "    label = dtrain.get_label()\n",
    "    ratio = float(np.sum(label == 0)) / np.sum(label==1)\n",
    "    param['scale_pos_weight'] = ratio\n",
    "    wtrain = dtrain.get_weight()\n",
    "    wtest = dtest.get_weight()\n",
    "    sum_weight = sum(wtrain) + sum(wtest)\n",
    "    wtrain *= sum_weight / sum(wtrain)\n",
    "    wtest *= sum_weight / sum(wtest)\n",
    "    dtrain.set_weight(wtrain)\n",
    "    dtest.set_weight(wtest)\n",
    "    return (dtrain, dtest, params)\n",
    "\n",
    "# do cross validation, for each fold\n",
    "# the dtrain, dtest, param will be passed into fpreproc\n",
    "# then the return value of fpreproc will be used to generate\n",
    "# results of that fold\n",
    "xgb.cv(params, dtrain, num_round, nfold=5,\n",
    "       metrics={'rmse'}, seed = 0, fpreproc = fpreproc)"
   ]
  },
  {
   "cell_type": "code",
   "execution_count": null,
   "metadata": {},
   "outputs": [],
   "source": [
    "model.get_score()"
   ]
  },
  {
   "cell_type": "code",
   "execution_count": 79,
   "metadata": {},
   "outputs": [],
   "source": [
    "ypred = model.predict(dtest,ntree_limit=model.best_ntree_limit)"
   ]
  },
  {
   "cell_type": "code",
   "execution_count": 72,
   "metadata": {},
   "outputs": [
    {
     "data": {
      "text/plain": [
       "<bound method AxesSubplot.plot of <matplotlib.axes._subplots.AxesSubplot object at 0x7ff2cce983d0>>"
      ]
     },
     "execution_count": 72,
     "metadata": {},
     "output_type": "execute_result"
    },
    {
     "data": {
      "image/png": "[encoded data removed]",
      "text/plain": [
       "<matplotlib.figure.Figure at 0x7ff2cd23a050>"
      ]
     },
     "metadata": {},
     "output_type": "display_data"
    }
   ],
   "source": [
    "xgb.plot_importance(booster=model).plot"
   ]
  },
  {
   "cell_type": "code",
   "execution_count": null,
   "metadata": {},
   "outputs": [],
   "source": [
    "num_boost_round = 900\n",
    "\n",
    "cv_results = xgb.cv(\n",
    "    params,\n",
    "    dtrain,\n",
    "    num_boost_round=num_boost_round,\n",
    "    seed=42,\n",
    "    nfold=5,\n",
    "    metrics={'rmse'},\n",
    "    early_stopping_rounds=100\n",
    ")\n",
    "\n",
    "cv_results"
   ]
  },
  {
   "cell_type": "code",
   "execution_count": 80,
   "metadata": {},
   "outputs": [
    {
     "name": "stdout",
     "output_type": "stream",
     "text": [
      "     Id      SalePrice\n",
      "0  1461  126676.437500\n",
      "1  1462  159823.796875\n",
      "2  1463  199171.218750\n",
      "3  1464  178431.437500\n",
      "4  1465  224393.156250\n"
     ]
    },
    {
     "data": {
      "text/plain": [
       "1459"
      ]
     },
     "execution_count": 80,
     "metadata": {},
     "output_type": "execute_result"
    }
   ],
   "source": [
    "output = pd.DataFrame({ 'Id' : ids, 'SalePrice': ypred })\n",
    "output.to_csv('housing-predictions.csv', index = False)\n",
    "print(output.head())\n",
    "len(output)"
   ]
  },
  {
   "cell_type": "code",
   "execution_count": null,
   "metadata": {},
   "outputs": [],
   "source": []
  }
 ],
 "metadata": {
  "kernelspec": {
   "display_name": "analytics",
   "language": "python",
   "name": "analytics"
  },
  "language_info": {
   "codemirror_mode": {
    "name": "ipython",
    "version": 2
   },
   "file_extension": ".py",
   "mimetype": "text/x-python",
   "name": "python",
   "nbconvert_exporter": "python",
   "pygments_lexer": "ipython2",
   "version": "2.7.12"
  }
 },
 "nbformat": 4,
 "nbformat_minor": 2
}
